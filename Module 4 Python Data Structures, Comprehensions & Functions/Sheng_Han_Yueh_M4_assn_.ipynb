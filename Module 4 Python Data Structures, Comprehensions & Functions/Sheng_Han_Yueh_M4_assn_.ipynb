{
 "cells": [
  {
   "cell_type": "markdown",
   "id": "ebbfa835",
   "metadata": {},
   "source": [
    "# AIM 5001 Module 4 Assignment (100 Points)\n",
    "This assignment will extend the work you started in Module 3 with the cars-sample35.txt data set to encompass list comprehensions, some additional Python data structures (e.g., dict objects), and user-defined functions.\n",
    "Start by reading the cars-sample35.txt file and re-creating the seven distinct lists of automobile attributes (i.e., Price, Maintenance Cost, Number of Doors, Number of Passengers, Luggage Capacity, Safety Rating, Classification of Vehicle) we worked with last week. You should be able to do this via a simple cut + paste of your code from last week. Then, complete the following six tasks:"
   ]
  },
  {
   "cell_type": "code",
   "execution_count": 1,
   "id": "7319647c",
   "metadata": {},
   "outputs": [],
   "source": [
    "import csv \n",
    "price=[] #Price\n",
    "m_cost=[] #Maintenance cost\n",
    "n_doors=[] #Number of doors \n",
    "n_passengers=[] #Number of passengers\n",
    "lc=[] #Luggage capacity\n",
    "safety_rating=[] #Safety rating\n",
    "c_v=[] #Classification of vehicle\n",
    "\n",
    "# categorize each value in the belonging attribute in list\n",
    "with open('D:/application for the usa/YU/3. Data Management/0922/cars-sample35.txt') as csvfile: \n",
    "    readCSV = csv.reader(csvfile) \n",
    "    for row in readCSV: \n",
    "        price.append(row[0])\n",
    "        m_cost.append(row[1])\n",
    "        n_doors.append(row[2])\n",
    "        n_passengers.append(row[3])\n",
    "        lc.append(row[4])\n",
    "        safety_rating.append(row[5])\n",
    "        c_v.append(row[6])"
   ]
  },
  {
   "cell_type": "markdown",
   "id": "4382b7ae",
   "metadata": {},
   "source": [
    "## List Comprehensions\n",
    "1. (10 Points) Find the list index values of each automobile having a price rating of \"med using a list comprehension instead of a basic for or while loop. The list comprehension should create a new list containing your result. Be sure to print your results to the screen."
   ]
  },
  {
   "cell_type": "code",
   "execution_count": 3,
   "id": "eb55012a",
   "metadata": {},
   "outputs": [
    {
     "name": "stdout",
     "output_type": "stream",
     "text": [
      "[6, 16, 20, 23, 26, 29]\n"
     ]
    }
   ],
   "source": [
    "print([i for i in range(len(price)) if price[i] == 'med'])"
   ]
  },
  {
   "cell_type": "markdown",
   "id": "d6c64565",
   "metadata": {},
   "source": [
    "2. (10 Points) Find the \"number of passengers\" value for each auto having a \"price\" value of \"med\" using a list comprehension instead of a basic for or while loop. The list comprehension should create a new list containing your findings. Be sure to print your results to the screen."
   ]
  },
  {
   "cell_type": "code",
   "execution_count": 6,
   "id": "b01ffeb7",
   "metadata": {},
   "outputs": [
    {
     "name": "stdout",
     "output_type": "stream",
     "text": [
      "['more', '2', '2', '2', '4', '2']\n"
     ]
    }
   ],
   "source": [
    "print([n_passengers[i] for i in range(len(price)) if price[i]=='med'])"
   ]
  },
  {
   "cell_type": "markdown",
   "id": "60f4e906",
   "metadata": {},
   "source": [
    "3. (10 Points) Find the index value for each automobile having a price value of \"high\" and a maintenance value that is not \"low\" using a list comprehension. The list comprehension should create a new list containing your findings. Be sure to print your results to the screen."
   ]
  },
  {
   "cell_type": "code",
   "execution_count": 7,
   "id": "2ac64a5e",
   "metadata": {},
   "outputs": [
    {
     "name": "stdout",
     "output_type": "stream",
     "text": [
      "[0, 1, 2, 27, 31]\n"
     ]
    }
   ],
   "source": [
    "print([i for i in range(len(price)) if price[i]=='high' and m_cost[i]!='low'])"
   ]
  },
  {
   "cell_type": "markdown",
   "id": "1c019ccc",
   "metadata": {},
   "source": [
    "## ---------------------------------------------------------------------------------------------------------------------------"
   ]
  },
  {
   "cell_type": "markdown",
   "id": "f2f2640f",
   "metadata": {},
   "source": [
    "## Nested List Comprehensions\n",
    "Consider the following list of lists:\n",
    "nlist = [ [1, 2, 3], [‘A’, ‘B’, ‘C’], [4, 5], [‘D’, ‘E’] ]\n",
    "If we wanted to extract each individual element of the component lists contained within nlist and add them to a new list, we could use a nested for loop similar to this:\n",
    "\n",
    "flist = []\n",
    "\n",
    "for x in nlist:\n",
    "\n",
    "    for y in x:\n",
    "    \n",
    "        flist.append(y)\n",
    "        \n",
    "print(flist)\n",
    "\n"
   ]
  },
  {
   "cell_type": "markdown",
   "id": "167720fb",
   "metadata": {},
   "source": [
    "4. (20 Points) Implement this nested for loop logic shown above using a list comprehension. Apply your list comprehension to the nlist list of lists shown above. Be sure to print your newly created list to the screen."
   ]
  },
  {
   "cell_type": "code",
   "execution_count": 10,
   "id": "5079dedb",
   "metadata": {},
   "outputs": [
    {
     "name": "stdout",
     "output_type": "stream",
     "text": [
      "[1, 2, 3, 'A', 'B', 'C', 4, 5, 'D', 'E']\n"
     ]
    }
   ],
   "source": [
    "nlist = [ [1, 2, 3], ['A', 'B', 'C'], [4, 5], ['D', 'E'] ]\n",
    "# print each element in nlist\n",
    "print([y for x in nlist for y in x])"
   ]
  },
  {
   "cell_type": "markdown",
   "id": "ab9ce483",
   "metadata": {},
   "source": [
    "## Write a Function That Converts a List to a Dict Object\n",
    "\n",
    "5. (35 Points) Your fifth task is to create a user defined function that accepts as input one of the seven automobile attribute lists as well as an integer value and returns a Python dict object. Remember: a Python dict object is comprised of ‘key/value’ pairs. The integer value accepted as a parameter by your function will represent the exact number of items you are to use from the list for purposes of creating the new dict object. So for example, if your function was defined as:\n",
    "--------\n",
    "def makedict(mylist, x):\n",
    "\n",
    "    newdict = {}\n",
    "    \n",
    "    #your code goes here\n",
    "    \n",
    "    return(newdict)\n",
    "--------\n",
    "you would take the first x items from mylist to create the new dict object. The key values you assign to the elements of the dict object should all be comprised of a combination of the letter ‘A’ and the alphanumeric representation of the index value corresponding to the location of the item in the mylist object. So if you had 3 dict elements in total, the key values for those elements would be (‘A0’, ‘A1’, ‘A2’). If we apply this concept to the first 5 elements of our “Luggage” list we’d have a dict object that looks like this:\n",
    "\n",
    "First five elements of luggage list:\n",
    "\n",
    "    ['med', 'small', 'big', 'big', 'med']\n",
    "    \n",
    "New dict Object:\n",
    "\n",
    "    {‘A0’ : ‘med’, ‘A1’: ‘small’, ‘A2’: ‘big’, ‘A3’:‘big’, ‘A4’:’med’}\n",
    "    \n",
    "Be sure to check that the integer value passed into your function does not exceed the length of the list parameter!"
   ]
  },
  {
   "cell_type": "code",
   "execution_count": 11,
   "id": "d8a9d576",
   "metadata": {},
   "outputs": [],
   "source": [
    "# will transfer input list (mylist) from the first x values into dictionary  \n",
    "def makedict(mylist,x):\n",
    "    if x>len(mylist):\n",
    "        print('the length should not exceed the input list')\n",
    "    else:\n",
    "        newdict={}\n",
    "        index=['A'+str(i) for i in range(x)]\n",
    "        for i in range(len(index)):\n",
    "            newdict[index[i]]=mylist[i]  \n",
    "        return newdict"
   ]
  },
  {
   "cell_type": "markdown",
   "id": "e36a733b",
   "metadata": {},
   "source": [
    "### Using Your New Function\n",
    "6. (15 Points) Now that you have your reusable user-defined function, use it to create two new dict objects containing the first seven elements of the ‘Price’ and ‘Luggage’ lists, respectively. Then, use these dict objects to tell us the price and luggage capacity of the auto identified by the ‘A4’ key value."
   ]
  },
  {
   "cell_type": "code",
   "execution_count": 18,
   "id": "ef8c1789",
   "metadata": {},
   "outputs": [
    {
     "name": "stdout",
     "output_type": "stream",
     "text": [
      "price dictionary: {'A0': 'high', 'A1': 'high', 'A2': 'high', 'A3': 'high', 'A4': 'vhigh', 'A5': 'low', 'A6': 'med'}\n",
      "value in A4 key of the price dictionary: vhigh\n",
      "luggage capacity dictionary: {'A0': 'med', 'A1': 'small', 'A2': 'big', 'A3': 'big', 'A4': 'med', 'A5': 'small', 'A6': 'med'}\n",
      "value in A4 key of the luggage capacity: med\n"
     ]
    }
   ],
   "source": [
    "dict_price=makedict(price,7)\n",
    "print('price dictionary:',dict_price)\n",
    "print('value in A4 key of the price dictionary:',dict_price['A4'])\n",
    "dict_lc=makedict(lc,7)\n",
    "print('luggage capacity dictionary:',dict_lc)\n",
    "print('value in A4 key of the luggage capacity:',dict_lc['A4'])"
   ]
  }
 ],
 "metadata": {
  "kernelspec": {
   "display_name": "Python 3 (ipykernel)",
   "language": "python",
   "name": "python3"
  },
  "language_info": {
   "codemirror_mode": {
    "name": "ipython",
    "version": 3
   },
   "file_extension": ".py",
   "mimetype": "text/x-python",
   "name": "python",
   "nbconvert_exporter": "python",
   "pygments_lexer": "ipython3",
   "version": "3.9.13"
  }
 },
 "nbformat": 4,
 "nbformat_minor": 5
}
