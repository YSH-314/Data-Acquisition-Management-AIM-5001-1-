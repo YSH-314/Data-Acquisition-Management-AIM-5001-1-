{
 "cells": [
  {
   "cell_type": "markdown",
   "id": "397cbea7",
   "metadata": {},
   "source": [
    "## Task1"
   ]
  },
  {
   "cell_type": "code",
   "execution_count": 2,
   "id": "7ba82cdf",
   "metadata": {},
   "outputs": [],
   "source": [
    "import csv "
   ]
  },
  {
   "cell_type": "code",
   "execution_count": 3,
   "id": "8a21f7c0",
   "metadata": {},
   "outputs": [],
   "source": [
    "price=[] #Price\n",
    "m_cost=[] #Maintenance cost\n",
    "n_doors=[] #Number of doors \n",
    "n_passengers=[] #Number of passengers\n",
    "lc=[] #Luggage capacity\n",
    "safety_rating=[] #Safety rating\n",
    "c_v=[] #Classification of vehicle\n",
    "\n",
    "# categorize each value in the belonging attribute in list\n",
    "with open('D:/application for the usa/YU/3. Data Management/0915/cars-sample35.txt') as csvfile: \n",
    "    readCSV = csv.reader(csvfile) \n",
    "    for row in readCSV: \n",
    "        price.append(row[0])\n",
    "        m_cost.append(row[1])\n",
    "        n_doors.append(row[2])\n",
    "        n_passengers.append(row[3])\n",
    "        lc.append(row[4])\n",
    "        safety_rating.append(row[5])\n",
    "        c_v.append(row[6])"
   ]
  },
  {
   "cell_type": "code",
   "execution_count": 4,
   "id": "dbe34363",
   "metadata": {},
   "outputs": [
    {
     "name": "stdout",
     "output_type": "stream",
     "text": [
      "['4', 'more', 'more', 'more', '2', '2', 'more', '2', '2', '4', '2', 'more', '4', 'more', '2', 'more', '2', '4', 'more', '2', '2', '2', '4', '2', '4', 'more', '4', '4', '2', '2', '4', '4', '2', '2', '2']\n"
     ]
    }
   ],
   "source": [
    "# test result \n",
    "print(n_passengers)"
   ]
  },
  {
   "cell_type": "markdown",
   "id": "91dc1e4d",
   "metadata": {},
   "source": [
    "## Task 2"
   ]
  },
  {
   "cell_type": "code",
   "execution_count": 5,
   "id": "9f928429",
   "metadata": {},
   "outputs": [
    {
     "name": "stdout",
     "output_type": "stream",
     "text": [
      "[6, 16, 20, 23, 26, 29]\n"
     ]
    }
   ],
   "source": [
    "# store the index that has price = 'med' in med_res\n",
    "med_res=[]\n",
    "for i in range(len(price)):\n",
    "    if price[i]=='med':\n",
    "        med_res.append(i)\n",
    "print(med_res)"
   ]
  },
  {
   "cell_type": "markdown",
   "id": "9062764e",
   "metadata": {},
   "source": [
    "## Task 3"
   ]
  },
  {
   "cell_type": "code",
   "execution_count": 6,
   "id": "b1fc05d5",
   "metadata": {},
   "outputs": [
    {
     "name": "stdout",
     "output_type": "stream",
     "text": [
      "['more', '2', '2', '2', '4', '2']\n"
     ]
    }
   ],
   "source": [
    "#used the result from task 2 to find the number of passengers in which price = 'med'\n",
    "pa_with_med=[]\n",
    "for i in med_res:\n",
    "    pa_with_med.append(n_passengers[i])\n",
    "print(pa_with_med)\n",
    "    "
   ]
  },
  {
   "cell_type": "markdown",
   "id": "3b822be8",
   "metadata": {},
   "source": [
    "## Task 4"
   ]
  },
  {
   "cell_type": "code",
   "execution_count": 7,
   "id": "c6e03e17",
   "metadata": {},
   "outputs": [
    {
     "name": "stdout",
     "output_type": "stream",
     "text": [
      "[0, 1, 2, 27, 31]\n"
     ]
    }
   ],
   "source": [
    "# find the index that price = 'high' and Maintenance cost not equal to 'low'\n",
    "res=[]\n",
    "for i in range(len(price)):\n",
    "    if price[i]=='high' and m_cost[i] != 'low':\n",
    "        res.append(i)\n",
    "print(res)"
   ]
  },
  {
   "cell_type": "markdown",
   "id": "5cbdb041",
   "metadata": {},
   "source": [
    "## Task 5"
   ]
  },
  {
   "cell_type": "code",
   "execution_count": 8,
   "id": "073bb9ed",
   "metadata": {},
   "outputs": [],
   "source": [
    "class CarData:\n",
    "    \n",
    "    CarCount=0\n",
    "    \n",
    "    def __init__(self, price, Maintenance_cost ,Number_of_doors,\n",
    "               Number_of_passengers,Luggage_capacity,Safety_rating,Classification_of_vehicle, uniqueID ):\n",
    "        \n",
    "        self.price=price\n",
    "        self.Maintenance_cost=Maintenance_cost\n",
    "        self.Number_of_doors=Number_of_doors\n",
    "        self.Number_of_passengers= Number_of_passengers\n",
    "        self.Luggage_capacity=Luggage_capacity\n",
    "        self.Safety_rating=Safety_rating\n",
    "        self.Classification_of_vehicle=Classification_of_vehicle\n",
    "        self.uniqueID=CarData.CarCount\n",
    "        CarData.CarCount+=1\n",
    "\n",
    "# uniqueID is the index of row in dataset     "
   ]
  },
  {
   "cell_type": "markdown",
   "id": "5ece1b36",
   "metadata": {},
   "source": [
    "## Task 6"
   ]
  },
  {
   "cell_type": "code",
   "execution_count": 8,
   "id": "d7f993bd",
   "metadata": {},
   "outputs": [],
   "source": [
    "# read all the data and store each row in content\n",
    "content=[]\n",
    "with open('D:/application for the usa/YU/3. Data Management/0915/cars-sample35.txt') as csvfile: \n",
    "    readCSV = csv.reader(csvfile)\n",
    "    for i in readCSV:\n",
    "        content.append(i)"
   ]
  },
  {
   "cell_type": "code",
   "execution_count": 9,
   "id": "1e4b7f06",
   "metadata": {},
   "outputs": [],
   "source": [
    "# store each class into a list \n",
    "Car_list=[]\n",
    "for i in range(len(content)):\n",
    "    Car_list.append(CarData(*content[i],i))"
   ]
  },
  {
   "cell_type": "code",
   "execution_count": 10,
   "id": "2cf39e9a",
   "metadata": {},
   "outputs": [
    {
     "name": "stdout",
     "output_type": "stream",
     "text": [
      "[3, 12, 19, 23]\n"
     ]
    }
   ],
   "source": [
    "res=[]\n",
    "for i in Car_list:\n",
    "    if i.Number_of_doors=='2' and i.Luggage_capacity=='big':\n",
    "        res.append(i.uniqueID)\n",
    "print(res)  "
   ]
  }
 ],
 "metadata": {
  "kernelspec": {
   "display_name": "Python 3 (ipykernel)",
   "language": "python",
   "name": "python3"
  },
  "language_info": {
   "codemirror_mode": {
    "name": "ipython",
    "version": 3
   },
   "file_extension": ".py",
   "mimetype": "text/x-python",
   "name": "python",
   "nbconvert_exporter": "python",
   "pygments_lexer": "ipython3",
   "version": "3.9.13"
  }
 },
 "nbformat": 4,
 "nbformat_minor": 5
}
