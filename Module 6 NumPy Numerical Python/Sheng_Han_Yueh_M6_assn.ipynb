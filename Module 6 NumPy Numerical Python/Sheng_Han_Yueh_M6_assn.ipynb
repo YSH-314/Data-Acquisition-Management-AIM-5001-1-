{
 "cells": [
  {
   "cell_type": "markdown",
   "id": "1a5ef038",
   "metadata": {},
   "source": [
    "# <center>AIM 5001 Module 6 Assignment (100 Points)<center>\n",
    "Our Module 6 Assignment makes use of the functionality provided by Python’s NumPy package."
   ]
  },
  {
   "cell_type": "markdown",
   "id": "17af5eca",
   "metadata": {},
   "source": [
    "## 1. (10 Points) Write a Python/NumPy code block that finds the distinct/unique common items between these two arrays:\n",
    "\n",
    "a = np.array([1, 2, 3, 2, 3, 4, 3, 4, 5, 6])\n",
    "\n",
    "b = np.array([7, 2, 10, 2, 7, 4, 9, 4, 9, 8])\n",
    "\n",
    "Your output should contain only the distinct overlapping values. For example, if a 2 is found in both array a and array b, your output should contain only one 2 even if array a contains more than one 2 within it."
   ]
  },
  {
   "cell_type": "code",
   "execution_count": 4,
   "id": "b29df5d0",
   "metadata": {},
   "outputs": [],
   "source": [
    "import numpy as np"
   ]
  },
  {
   "cell_type": "markdown",
   "id": "0606bab5",
   "metadata": {},
   "source": [
    "__First of all, find the overlapping values. By using unique() function will only show distinct values.__"
   ]
  },
  {
   "cell_type": "code",
   "execution_count": 5,
   "id": "5ba104ef",
   "metadata": {},
   "outputs": [
    {
     "name": "stdout",
     "output_type": "stream",
     "text": [
      "[2 4]\n"
     ]
    }
   ],
   "source": [
    "a = np.array([1, 2, 3, 2, 3, 4, 3, 4, 5, 6])\n",
    "b = np.array([7, 2, 10, 2, 7, 4, 9, 4, 9, 8])\n",
    "print(np.unique(a[np.isin(a,b)]))"
   ]
  },
  {
   "cell_type": "markdown",
   "id": "b9c5901a",
   "metadata": {},
   "source": [
    "## 2. (10 Points) Create the following 5x3 array using knowledge you have of Python’s / NumPy’s sequencing functionality so that you do not need to explicitly key in every integer value.\n",
    "\n",
    "|col1|col2|col3|\n",
    "|:--:|:--:|:--:|\n",
    "|1|6|11|\n",
    "|2|7|12|\n",
    "|3|8|13|\n",
    "|4|9|14|\n",
    "|5|10|15|"
   ]
  },
  {
   "cell_type": "markdown",
   "id": "eeae10ae",
   "metadata": {},
   "source": [
    "__Using the arange function to generate 1-15 in a 1D array. By using the reshape function and transposing the matrix, we can have the above result.__"
   ]
  },
  {
   "cell_type": "code",
   "execution_count": 6,
   "id": "baf9503c",
   "metadata": {},
   "outputs": [
    {
     "name": "stdout",
     "output_type": "stream",
     "text": [
      "[[ 1  6 11]\n",
      " [ 2  7 12]\n",
      " [ 3  8 13]\n",
      " [ 4  9 14]\n",
      " [ 5 10 15]]\n"
     ]
    }
   ],
   "source": [
    "arr=np.arange(1,16,1)\n",
    "arr=arr.reshape(3,5).T\n",
    "print(arr)"
   ]
  },
  {
   "cell_type": "markdown",
   "id": "077b600c",
   "metadata": {},
   "source": [
    "## 3. (10 Points) The process of transforming a multidimensional array into a unidimensional array is referred to as “flattening”. Transform the 5x3 array shown above in Problem 2 into a unidimensional array such that the sequence of values contained within the array is as follows: 1, 2, 3, 4, 5, 6, 7, 8, 9, 10, 11, 12, 13, 14, 15"
   ]
  },
  {
   "cell_type": "markdown",
   "id": "216e5615",
   "metadata": {},
   "source": [
    "__First of all, transpose the 2-D array to make the right sequence after flattening.\n",
    "There are three ways to flatten the 2-D array:__\n",
    "\n",
    "__1. flatten function__\n",
    "\n",
    "__2. reshape(-1)__\n",
    "\n",
    "__3. reshape(15,)__"
   ]
  },
  {
   "cell_type": "code",
   "execution_count": 7,
   "id": "fe5291da",
   "metadata": {},
   "outputs": [
    {
     "name": "stdout",
     "output_type": "stream",
     "text": [
      "[ 1  2  3  4  5  6  7  8  9 10 11 12 13 14 15]\n",
      "[ 1  2  3  4  5  6  7  8  9 10 11 12 13 14 15]\n",
      "[ 1  2  3  4  5  6  7  8  9 10 11 12 13 14 15]\n"
     ]
    }
   ],
   "source": [
    "arrT=arr.T # arr is the result of problem2\n",
    "flatten_arr_1=arrT.flatten()\n",
    "flatten_arr_2=arrT.reshape(-1)\n",
    "flatten_arr_3=arrT.reshape(15,)\n",
    "print(flatten_arr_1)\n",
    "print(flatten_arr_2)\n",
    "print(flatten_arr_3)"
   ]
  },
  {
   "cell_type": "markdown",
   "id": "d1913585",
   "metadata": {},
   "source": [
    "## 4. (15 Points) Transform the 2-D array shown in Problem 2 into a 3 dimensional array such that the first column becomes the first dimension of the 3-D array, the second column becomes the second dimension of the 3-D array, and the third column becomes the third dimension of the 3-D array."
   ]
  },
  {
   "cell_type": "markdown",
   "id": "3bc4d9de",
   "metadata": {},
   "source": [
    "__Since we want the columns to be different dimensions, we transpose the result of problem 2 first. Then use the reshape() function to transform.__"
   ]
  },
  {
   "cell_type": "code",
   "execution_count": 13,
   "id": "8b6b47f6",
   "metadata": {},
   "outputs": [
    {
     "name": "stdout",
     "output_type": "stream",
     "text": [
      "[[[ 1]\n",
      "  [ 2]\n",
      "  [ 3]\n",
      "  [ 4]\n",
      "  [ 5]]\n",
      "\n",
      " [[ 6]\n",
      "  [ 7]\n",
      "  [ 8]\n",
      "  [ 9]\n",
      "  [10]]\n",
      "\n",
      " [[11]\n",
      "  [12]\n",
      "  [13]\n",
      "  [14]\n",
      "  [15]]]\n"
     ]
    }
   ],
   "source": [
    "threeD_arr=arr.T.reshape(3,5,1) # arr is the result of problem 2\n",
    "print(threeD_arr)"
   ]
  },
  {
   "cell_type": "markdown",
   "id": "73c81bcd",
   "metadata": {},
   "source": [
    "## 5. (15 Points) Transform the 3-D array you created in Problem 4 back to the 2-dimensional format shown in Problem 2."
   ]
  },
  {
   "cell_type": "markdown",
   "id": "b175daf4",
   "metadata": {},
   "source": [
    "__First of all, transfer the shape into a 2-D array. In order to keep 1-5, 6-10, and 11-15 as columns, we use (3,5) to reshape the 3-D array. Then, use the T function to transpose the 2-D array.__ "
   ]
  },
  {
   "cell_type": "code",
   "execution_count": 16,
   "id": "4284dfe3",
   "metadata": {},
   "outputs": [
    {
     "name": "stdout",
     "output_type": "stream",
     "text": [
      "[[ 1  6 11]\n",
      " [ 2  7 12]\n",
      " [ 3  8 13]\n",
      " [ 4  9 14]\n",
      " [ 5 10 15]]\n"
     ]
    }
   ],
   "source": [
    "backarray=threeD_arr.reshape(3,5).T #threeD_arr is the result of problem 4\n",
    "print(backarray)"
   ]
  },
  {
   "cell_type": "markdown",
   "id": "4cc29fc9",
   "metadata": {},
   "source": [
    "## 6. (10 Points) You are given the following two arrays:\n",
    "\n",
    "a = np.array([12, 5, 7, 15, 3, 1, 8])\n",
    "\n",
    "b = np.array([14, 6, 3, 11, 19, 12, 5])\n",
    "\n",
    "Write a Python/Numpy code block that removes from array a any items that are also present in array b."
   ]
  },
  {
   "cell_type": "markdown",
   "id": "a9cd0e4d",
   "metadata": {},
   "source": [
    "__np.isin(a,b) will find characters in array a that are also in array b. Using the '\\~' to inverse the condition, that is to find characters not in array b. [~np.isin(a,b)] will return boolean values that meet the condition.__"
   ]
  },
  {
   "cell_type": "code",
   "execution_count": 65,
   "id": "9861d192",
   "metadata": {},
   "outputs": [
    {
     "name": "stdout",
     "output_type": "stream",
     "text": [
      "[ 7 15  1  8]\n"
     ]
    }
   ],
   "source": [
    "a = np.array([12, 5, 7, 15, 3, 1, 8])\n",
    "b = np.array([14, 6, 3, 11, 19, 12, 5])\n",
    "print(a[~np.isin(a,b)])"
   ]
  },
  {
   "cell_type": "markdown",
   "id": "6d45a864",
   "metadata": {},
   "source": [
    "## 7. (30 Points) For this problem you will load a small data set to your online GitHub repository and then read it into a NumPy 2D array. You will then use the content that NumPy array to answer a series of analytical questions."
   ]
  },
  {
   "cell_type": "markdown",
   "id": "b881cf92",
   "metadata": {},
   "source": [
    "__Loading csv file from Github and storing the data as a 2-D array__"
   ]
  },
  {
   "cell_type": "code",
   "execution_count": 18,
   "id": "478708ac",
   "metadata": {},
   "outputs": [],
   "source": [
    "import pandas\n",
    "import numpy as np"
   ]
  },
  {
   "cell_type": "code",
   "execution_count": 19,
   "id": "3c12a9fc",
   "metadata": {},
   "outputs": [
    {
     "data": {
      "text/plain": [
       "numpy.ndarray"
      ]
     },
     "execution_count": 19,
     "metadata": {},
     "output_type": "execute_result"
    }
   ],
   "source": [
    "np.set_printoptions(suppress = True)\n",
    "nyc_water = pandas.read_csv(r'https://raw.githubusercontent.com/shenghanyueh/AIM-5001/main/Module6_Data.csv').to_numpy()\n",
    "type(nyc_water)"
   ]
  },
  {
   "cell_type": "markdown",
   "id": "d2c915f5",
   "metadata": {},
   "source": [
    "__Show the 2-D array__"
   ]
  },
  {
   "cell_type": "code",
   "execution_count": 20,
   "id": "2006a90f",
   "metadata": {},
   "outputs": [
    {
     "data": {
      "text/plain": [
       "array([[   1979. , 7102100. ,    1512. ,     213. ],\n",
       "       [   1980. , 7071639. ,    1506. ,     213. ],\n",
       "       [   1981. , 7089241. ,    1309. ,     185. ],\n",
       "       [   1982. , 7109105. ,    1382. ,     194. ],\n",
       "       [   1983. , 7181224. ,    1424. ,     198. ],\n",
       "       [   1984. , 7234514. ,    1465. ,     203. ],\n",
       "       [   1985. , 7274054. ,    1326. ,     182. ],\n",
       "       [   1986. , 7319246. ,    1351. ,     185. ],\n",
       "       [   1987. , 7342476. ,    1447. ,     197. ],\n",
       "       [   1988. , 7353719. ,    1484. ,     202. ],\n",
       "       [   1989. , 7344175. ,    1402. ,     191. ],\n",
       "       [   1990. , 7335650. ,    1424. ,     194. ],\n",
       "       [   1991. , 7374501. ,    1469. ,     199. ],\n",
       "       [   1992. , 7428944. ,    1369. ,     184. ],\n",
       "       [   1993. , 7506166. ,    1368.5,     182. ],\n",
       "       [   1994. , 7570458. ,    1357.7,     179. ],\n",
       "       [   1995. , 7633040. ,    1325.7,     174. ],\n",
       "       [   1996. , 7697812. ,    1297.9,     169. ],\n",
       "       [   1997. , 7773443. ,    1205.5,     155. ],\n",
       "       [   1998. , 7858259. ,    1219.5,     155. ],\n",
       "       [   1999. , 7947660. ,    1237.2,     156. ],\n",
       "       [   2000. , 8008278. ,    1240.4,     155. ],\n",
       "       [   2001. , 8024963.5,    1184. ,     148. ],\n",
       "       [   2002. , 8041649. ,    1135.6,     141. ],\n",
       "       [   2003. , 8058334.5,    1093.7,     136. ],\n",
       "       [   2004. , 8075020. ,    1099.5,     136. ],\n",
       "       [   2005. , 8091705.5,    1138. ,     141. ],\n",
       "       [   2006. , 8108391. ,    1069. ,     132. ],\n",
       "       [   2007. , 8125076.5,    1114. ,     137. ],\n",
       "       [   2008. , 8141762. ,    1098. ,     135. ],\n",
       "       [   2009. , 8158447.5,    1007.5,     123. ],\n",
       "       [   2010. , 8175133. ,    1039. ,     127. ],\n",
       "       [   2011. , 8284098. ,    1021. ,     123. ],\n",
       "       [   2012. , 8361179. ,    1009.1,     121. ],\n",
       "       [   2013. , 8422460. ,    1006.1,     119. ],\n",
       "       [   2014. , 8471990. ,     996. ,     118. ],\n",
       "       [   2015. , 8516502. ,    1009. ,     118. ],\n",
       "       [   2016. , 8537673. ,    1002. ,     117. ],\n",
       "       [   2017. , 8622698. ,     990.2,     115. ]])"
      ]
     },
     "execution_count": 20,
     "metadata": {},
     "output_type": "execute_result"
    }
   ],
   "source": [
    "nyc_water"
   ]
  },
  {
   "cell_type": "markdown",
   "id": "913452b4",
   "metadata": {},
   "source": [
    "##  Q1:What is the maximum yearly NYC consumption of water in millions of gallons per day?"
   ]
  },
  {
   "cell_type": "markdown",
   "id": "2e9c11a6",
   "metadata": {},
   "source": [
    "__Slicing the array to extract the column of water consumption (column 2, if column 0 is the first column). Using max() function to find the answer.__"
   ]
  },
  {
   "cell_type": "code",
   "execution_count": 21,
   "id": "a461028d",
   "metadata": {},
   "outputs": [
    {
     "name": "stdout",
     "output_type": "stream",
     "text": [
      "Ans: 1512.0 millions of gallons per day\n"
     ]
    }
   ],
   "source": [
    "print('Ans:',nyc_water[:,2].max(axis=0),'millions of gallons per day')"
   ]
  },
  {
   "cell_type": "markdown",
   "id": "534f8939",
   "metadata": {},
   "source": [
    "## Q2:How many calendar years are represented within this data set? NumPy's shape command is one way to find out."
   ]
  },
  {
   "cell_type": "markdown",
   "id": "012a281e",
   "metadata": {},
   "source": [
    "__The number of rows is the number of years that have been recorded. So we extract shape[0].__"
   ]
  },
  {
   "cell_type": "code",
   "execution_count": 22,
   "id": "18dc493c",
   "metadata": {},
   "outputs": [
    {
     "name": "stdout",
     "output_type": "stream",
     "text": [
      "Ans: 39 years\n"
     ]
    }
   ],
   "source": [
    "print('Ans:',nyc_water.shape[0],'years')"
   ]
  },
  {
   "cell_type": "markdown",
   "id": "c27c8a62",
   "metadata": {},
   "source": [
    "## Q3:What is the mean and the standard deviation of the per capita daily water consumption?"
   ]
  },
  {
   "cell_type": "markdown",
   "id": "510a5fa8",
   "metadata": {},
   "source": [
    "__Slicing the array to extract the column of capita daily water consumption (column 3, if column 0 is the first column). Using mean() and std() functions to find the answer of mean and standard deviation.__"
   ]
  },
  {
   "cell_type": "code",
   "execution_count": 80,
   "id": "04d01375",
   "metadata": {},
   "outputs": [
    {
     "name": "stdout",
     "output_type": "stream",
     "text": [
      "mean: 160.30769230769232\n",
      "standard deviation: 31.51894330370624\n"
     ]
    }
   ],
   "source": [
    "print('mean:',nyc_water[:,3].mean())\n",
    "print('standard deviation:',nyc_water[:,3].std())"
   ]
  },
  {
   "cell_type": "markdown",
   "id": "83e0a850",
   "metadata": {},
   "source": [
    "## Q4:What is the increase or decrease in population from year to year? Use NumPy's `diff` function to create an array of differences and save that to a variable called \"pop_diff\", then print that variable to the screen."
   ]
  },
  {
   "cell_type": "markdown",
   "id": "f2295ca9",
   "metadata": {},
   "source": [
    "__Slicing the array to extract the number of population (column 1, if column 0 is the first column). Using diff function will generate the number of differences in population between years.__"
   ]
  },
  {
   "cell_type": "code",
   "execution_count": 23,
   "id": "e222f8dc",
   "metadata": {},
   "outputs": [
    {
     "name": "stdout",
     "output_type": "stream",
     "text": [
      "[-30461.   17602.   19864.   72119.   53290.   39540.   45192.   23230.\n",
      "  11243.   -9544.   -8525.   38851.   54443.   77222.   64292.   62582.\n",
      "  64772.   75631.   84816.   89401.   60618.   16685.5  16685.5  16685.5\n",
      "  16685.5  16685.5  16685.5  16685.5  16685.5  16685.5  16685.5 108965.\n",
      "  77081.   61281.   49530.   44512.   21171.   85025. ]\n"
     ]
    }
   ],
   "source": [
    "pop_diff=np.diff(nyc_water[:,1])\n",
    "print(pop_diff)"
   ]
  }
 ],
 "metadata": {
  "kernelspec": {
   "display_name": "Python 3 (ipykernel)",
   "language": "python",
   "name": "python3"
  },
  "language_info": {
   "codemirror_mode": {
    "name": "ipython",
    "version": 3
   },
   "file_extension": ".py",
   "mimetype": "text/x-python",
   "name": "python",
   "nbconvert_exporter": "python",
   "pygments_lexer": "ipython3",
   "version": "3.9.13"
  }
 },
 "nbformat": 4,
 "nbformat_minor": 5
}
